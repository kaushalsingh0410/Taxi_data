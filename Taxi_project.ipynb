{
 "cells": [
  {
   "cell_type": "code",
   "execution_count": 1,
   "id": "687f902d-aa15-4c5f-acce-6b9b93a0fb80",
   "metadata": {
    "id": "687f902d-aa15-4c5f-acce-6b9b93a0fb80",
    "outputId": "d2e6a81b-6df8-42b5-8512-feff9fd41e65"
   },
   "outputs": [
    {
     "name": "stdout",
     "output_type": "stream",
     "text": [
      "Ritu\n"
     ]
    }
   ],
   "source": [
    "print('Ritu')"
   ]
  },
  {
   "cell_type": "code",
   "execution_count": 2,
   "id": "0cc82f22-9455-428f-b574-9dda9771fe8b",
   "metadata": {
    "id": "0cc82f22-9455-428f-b574-9dda9771fe8b"
   },
   "outputs": [],
   "source": [
    "# Problem Reg/Class\n",
    "# Data collect\n",
    "# Modeles call\n",
    "# Data EDA :- null,fill,dtype, conv\n",
    "# Data preprocessing:- feature engineearing/feature scaling\n",
    "# features & target brake\n",
    "# split\n",
    "# linear reg, lasso,ridge,ols,df,rf,svm,knn\n",
    "# hyper,grid,cv,pca\n",
    "# matrices:- MSE,MAS,RMSE,R2_score,score\n",
    "# best model\n",
    "# value predict\n",
    "# html,css,js\n",
    "# backend:- flask,fastapi,django\n",
    "# mysql"
   ]
  },
  {
   "cell_type": "markdown",
   "id": "eae9a014-96ac-45e3-99c7-899214c299eb",
   "metadata": {
    "id": "eae9a014-96ac-45e3-99c7-899214c299eb"
   },
   "source": [
    "# Import Modules"
   ]
  },
  {
   "cell_type": "code",
   "execution_count": 3,
   "id": "e6cf4884-f942-4a69-8c4c-48e8822b4256",
   "metadata": {
    "id": "e6cf4884-f942-4a69-8c4c-48e8822b4256",
    "outputId": "ecb195af-5259-45f9-83b6-0d6b80fa953e"
   },
   "outputs": [
    {
     "name": "stdout",
     "output_type": "stream",
     "text": [
      "All modules imported successfully!!\n"
     ]
    }
   ],
   "source": [
    "import numpy as np\n",
    "import pandas as pd\n",
    "import matplotlib.pyplot as plt\n",
    "import seaborn as sns\n",
    "import time\n",
    "import os\n",
    "# import pymysql as py\n",
    "import warnings\n",
    "from datetime import datetime\n",
    "# ----------------------------\n",
    "from sklearn.linear_model import LinearRegression,Lasso,Ridge\n",
    "from sklearn.tree import DecisionTreeRegressor\n",
    "from sklearn.ensemble import RandomForestRegressor,BaggingRegressor,AdaBoostRegressor,GradientBoostingRegressor\n",
    "# from xgboost import XGBRegressor\n",
    "from sklearn.svm import SVR\n",
    "from sklearn.neighbors import KNeighborsRegressor\n",
    "# -------------------------------------\n",
    "from sklearn.metrics import mean_squared_error,mean_absolute_error,r2_score\n",
    "from sklearn.decomposition import PCA\n",
    "from sklearn.model_selection import cross_val_score,train_test_split,GridSearchCV\n",
    "from sklearn.preprocessing import StandardScaler\n",
    "import joblib\n",
    "\n",
    "warnings.filterwarnings('ignore')\n",
    "print('All modules imported successfully!!')\n"
   ]
  },
  {
   "cell_type": "markdown",
   "id": "693d8ff9-c706-4ee1-8773-cbca08fedab4",
   "metadata": {
    "id": "693d8ff9-c706-4ee1-8773-cbca08fedab4"
   },
   "source": [
    "# Data Load"
   ]
  },
  {
   "cell_type": "code",
   "execution_count": 4,
   "id": "e4fabaa5-013c-4fed-b4bb-ed7fd7111843",
   "metadata": {
    "id": "e4fabaa5-013c-4fed-b4bb-ed7fd7111843"
   },
   "outputs": [],
   "source": [
    "df = pd.read_csv('Taxi_data.csv')"
   ]
  },
  {
   "cell_type": "markdown",
   "id": "a5bc1fdb-cda0-4038-862b-f8dd5dc0fe3f",
   "metadata": {
    "id": "a5bc1fdb-cda0-4038-862b-f8dd5dc0fe3f"
   },
   "source": [
    "# Head"
   ]
  },
  {
   "cell_type": "code",
   "execution_count": 5,
   "id": "8b143e42-938e-468f-a9d1-c289b306336d",
   "metadata": {
    "id": "8b143e42-938e-468f-a9d1-c289b306336d",
    "outputId": "8c6eaed5-3495-4f2c-a477-22ac979f8246"
   },
   "outputs": [
    {
     "data": {
      "text/html": [
       "<div>\n",
       "<style scoped>\n",
       "    .dataframe tbody tr th:only-of-type {\n",
       "        vertical-align: middle;\n",
       "    }\n",
       "\n",
       "    .dataframe tbody tr th {\n",
       "        vertical-align: top;\n",
       "    }\n",
       "\n",
       "    .dataframe thead th {\n",
       "        text-align: right;\n",
       "    }\n",
       "</style>\n",
       "<table border=\"1\" class=\"dataframe\">\n",
       "  <thead>\n",
       "    <tr style=\"text-align: right;\">\n",
       "      <th></th>\n",
       "      <th>key</th>\n",
       "      <th>fare_amount</th>\n",
       "      <th>pickup_datetime</th>\n",
       "      <th>pickup_longitude</th>\n",
       "      <th>pickup_latitude</th>\n",
       "      <th>dropoff_longitude</th>\n",
       "      <th>dropoff_latitude</th>\n",
       "      <th>passenger_count</th>\n",
       "    </tr>\n",
       "  </thead>\n",
       "  <tbody>\n",
       "    <tr>\n",
       "      <th>0</th>\n",
       "      <td>2010-04-23 15:12:00.000000132</td>\n",
       "      <td>4.1</td>\n",
       "      <td>2010-04-23 15:12:00 UTC</td>\n",
       "      <td>-73.973925</td>\n",
       "      <td>40.748950</td>\n",
       "      <td>-73.966458</td>\n",
       "      <td>40.753695</td>\n",
       "      <td>1</td>\n",
       "    </tr>\n",
       "    <tr>\n",
       "      <th>1</th>\n",
       "      <td>2009-06-15 17:26:21.0000001</td>\n",
       "      <td>4.5</td>\n",
       "      <td>2009-06-15 17:26:21 UTC</td>\n",
       "      <td>-73.844311</td>\n",
       "      <td>40.721319</td>\n",
       "      <td>-73.841610</td>\n",
       "      <td>40.712278</td>\n",
       "      <td>1</td>\n",
       "    </tr>\n",
       "    <tr>\n",
       "      <th>2</th>\n",
       "      <td>2010-01-05 16:52:16.0000002</td>\n",
       "      <td>16.9</td>\n",
       "      <td>2010-01-05 16:52:16 UTC</td>\n",
       "      <td>-74.016048</td>\n",
       "      <td>40.711303</td>\n",
       "      <td>-73.979268</td>\n",
       "      <td>40.782004</td>\n",
       "      <td>1</td>\n",
       "    </tr>\n",
       "    <tr>\n",
       "      <th>3</th>\n",
       "      <td>2011-08-18 00:35:00.00000049</td>\n",
       "      <td>5.7</td>\n",
       "      <td>2011-08-18 00:35:00 UTC</td>\n",
       "      <td>-73.982738</td>\n",
       "      <td>40.761270</td>\n",
       "      <td>-73.991242</td>\n",
       "      <td>40.750562</td>\n",
       "      <td>2</td>\n",
       "    </tr>\n",
       "    <tr>\n",
       "      <th>4</th>\n",
       "      <td>2012-04-21 04:30:42.0000001</td>\n",
       "      <td>7.7</td>\n",
       "      <td>2012-04-21 04:30:42 UTC</td>\n",
       "      <td>-73.987130</td>\n",
       "      <td>40.733143</td>\n",
       "      <td>-73.991567</td>\n",
       "      <td>40.758092</td>\n",
       "      <td>1</td>\n",
       "    </tr>\n",
       "  </tbody>\n",
       "</table>\n",
       "</div>"
      ],
      "text/plain": [
       "                             key  fare_amount          pickup_datetime  \\\n",
       "0  2010-04-23 15:12:00.000000132          4.1  2010-04-23 15:12:00 UTC   \n",
       "1    2009-06-15 17:26:21.0000001          4.5  2009-06-15 17:26:21 UTC   \n",
       "2    2010-01-05 16:52:16.0000002         16.9  2010-01-05 16:52:16 UTC   \n",
       "3   2011-08-18 00:35:00.00000049          5.7  2011-08-18 00:35:00 UTC   \n",
       "4    2012-04-21 04:30:42.0000001          7.7  2012-04-21 04:30:42 UTC   \n",
       "\n",
       "   pickup_longitude  pickup_latitude  dropoff_longitude  dropoff_latitude  \\\n",
       "0        -73.973925        40.748950         -73.966458         40.753695   \n",
       "1        -73.844311        40.721319         -73.841610         40.712278   \n",
       "2        -74.016048        40.711303         -73.979268         40.782004   \n",
       "3        -73.982738        40.761270         -73.991242         40.750562   \n",
       "4        -73.987130        40.733143         -73.991567         40.758092   \n",
       "\n",
       "   passenger_count  \n",
       "0                1  \n",
       "1                1  \n",
       "2                1  \n",
       "3                2  \n",
       "4                1  "
      ]
     },
     "execution_count": 5,
     "metadata": {},
     "output_type": "execute_result"
    }
   ],
   "source": [
    "df.head()"
   ]
  },
  {
   "cell_type": "markdown",
   "id": "9977fef1-677a-47a0-b248-fce847785633",
   "metadata": {
    "id": "9977fef1-677a-47a0-b248-fce847785633"
   },
   "source": [
    "# Info"
   ]
  },
  {
   "cell_type": "code",
   "execution_count": 6,
   "id": "e0bb6847-0bad-4cc5-b20b-a7edde0cebbf",
   "metadata": {
    "id": "e0bb6847-0bad-4cc5-b20b-a7edde0cebbf",
    "outputId": "e2a892db-0dc4-406d-e17d-2c7ebdb10c94"
   },
   "outputs": [
    {
     "name": "stdout",
     "output_type": "stream",
     "text": [
      "<class 'pandas.core.frame.DataFrame'>\n",
      "RangeIndex: 9999 entries, 0 to 9998\n",
      "Data columns (total 8 columns):\n",
      " #   Column             Non-Null Count  Dtype  \n",
      "---  ------             --------------  -----  \n",
      " 0   key                9999 non-null   object \n",
      " 1   fare_amount        9999 non-null   float64\n",
      " 2   pickup_datetime    9999 non-null   object \n",
      " 3   pickup_longitude   9999 non-null   float64\n",
      " 4   pickup_latitude    9999 non-null   float64\n",
      " 5   dropoff_longitude  9999 non-null   float64\n",
      " 6   dropoff_latitude   9999 non-null   float64\n",
      " 7   passenger_count    9999 non-null   int64  \n",
      "dtypes: float64(5), int64(1), object(2)\n",
      "memory usage: 625.1+ KB\n"
     ]
    }
   ],
   "source": [
    "df.info()"
   ]
  },
  {
   "cell_type": "code",
   "execution_count": 7,
   "id": "989121b2-23f4-4b07-ad62-b8241f3b5c28",
   "metadata": {
    "id": "989121b2-23f4-4b07-ad62-b8241f3b5c28",
    "outputId": "92c5bdc8-d8f7-4e7a-9ca2-cdc37a5b521d"
   },
   "outputs": [
    {
     "data": {
      "text/html": [
       "<div>\n",
       "<style scoped>\n",
       "    .dataframe tbody tr th:only-of-type {\n",
       "        vertical-align: middle;\n",
       "    }\n",
       "\n",
       "    .dataframe tbody tr th {\n",
       "        vertical-align: top;\n",
       "    }\n",
       "\n",
       "    .dataframe thead th {\n",
       "        text-align: right;\n",
       "    }\n",
       "</style>\n",
       "<table border=\"1\" class=\"dataframe\">\n",
       "  <thead>\n",
       "    <tr style=\"text-align: right;\">\n",
       "      <th></th>\n",
       "      <th>key</th>\n",
       "      <th>fare_amount</th>\n",
       "      <th>pickup_datetime</th>\n",
       "      <th>pickup_longitude</th>\n",
       "      <th>pickup_latitude</th>\n",
       "      <th>dropoff_longitude</th>\n",
       "      <th>dropoff_latitude</th>\n",
       "      <th>passenger_count</th>\n",
       "    </tr>\n",
       "  </thead>\n",
       "  <tbody>\n",
       "    <tr>\n",
       "      <th>0</th>\n",
       "      <td>2010-04-23 15:12:00.000000132</td>\n",
       "      <td>4.1</td>\n",
       "      <td>2010-04-23 15:12:00 UTC</td>\n",
       "      <td>-73.973925</td>\n",
       "      <td>40.748950</td>\n",
       "      <td>-73.966458</td>\n",
       "      <td>40.753695</td>\n",
       "      <td>1</td>\n",
       "    </tr>\n",
       "    <tr>\n",
       "      <th>1</th>\n",
       "      <td>2009-06-15 17:26:21.0000001</td>\n",
       "      <td>4.5</td>\n",
       "      <td>2009-06-15 17:26:21 UTC</td>\n",
       "      <td>-73.844311</td>\n",
       "      <td>40.721319</td>\n",
       "      <td>-73.841610</td>\n",
       "      <td>40.712278</td>\n",
       "      <td>1</td>\n",
       "    </tr>\n",
       "    <tr>\n",
       "      <th>2</th>\n",
       "      <td>2010-01-05 16:52:16.0000002</td>\n",
       "      <td>16.9</td>\n",
       "      <td>2010-01-05 16:52:16 UTC</td>\n",
       "      <td>-74.016048</td>\n",
       "      <td>40.711303</td>\n",
       "      <td>-73.979268</td>\n",
       "      <td>40.782004</td>\n",
       "      <td>1</td>\n",
       "    </tr>\n",
       "    <tr>\n",
       "      <th>3</th>\n",
       "      <td>2011-08-18 00:35:00.00000049</td>\n",
       "      <td>5.7</td>\n",
       "      <td>2011-08-18 00:35:00 UTC</td>\n",
       "      <td>-73.982738</td>\n",
       "      <td>40.761270</td>\n",
       "      <td>-73.991242</td>\n",
       "      <td>40.750562</td>\n",
       "      <td>2</td>\n",
       "    </tr>\n",
       "    <tr>\n",
       "      <th>4</th>\n",
       "      <td>2012-04-21 04:30:42.0000001</td>\n",
       "      <td>7.7</td>\n",
       "      <td>2012-04-21 04:30:42 UTC</td>\n",
       "      <td>-73.987130</td>\n",
       "      <td>40.733143</td>\n",
       "      <td>-73.991567</td>\n",
       "      <td>40.758092</td>\n",
       "      <td>1</td>\n",
       "    </tr>\n",
       "    <tr>\n",
       "      <th>...</th>\n",
       "      <td>...</td>\n",
       "      <td>...</td>\n",
       "      <td>...</td>\n",
       "      <td>...</td>\n",
       "      <td>...</td>\n",
       "      <td>...</td>\n",
       "      <td>...</td>\n",
       "      <td>...</td>\n",
       "    </tr>\n",
       "    <tr>\n",
       "      <th>9994</th>\n",
       "      <td>2010-02-15 15:52:46.0000006</td>\n",
       "      <td>6.5</td>\n",
       "      <td>2010-02-15 15:52:46 UTC</td>\n",
       "      <td>-74.004429</td>\n",
       "      <td>40.721271</td>\n",
       "      <td>-74.006460</td>\n",
       "      <td>40.739435</td>\n",
       "      <td>3</td>\n",
       "    </tr>\n",
       "    <tr>\n",
       "      <th>9995</th>\n",
       "      <td>2010-08-27 08:45:01.0000004</td>\n",
       "      <td>4.1</td>\n",
       "      <td>2010-08-27 08:45:01 UTC</td>\n",
       "      <td>-73.983616</td>\n",
       "      <td>40.756005</td>\n",
       "      <td>-73.976169</td>\n",
       "      <td>40.763282</td>\n",
       "      <td>1</td>\n",
       "    </tr>\n",
       "    <tr>\n",
       "      <th>9996</th>\n",
       "      <td>2011-10-26 10:44:00.00000086</td>\n",
       "      <td>11.7</td>\n",
       "      <td>2011-10-26 10:44:00 UTC</td>\n",
       "      <td>-73.988277</td>\n",
       "      <td>40.748970</td>\n",
       "      <td>-73.963712</td>\n",
       "      <td>40.773958</td>\n",
       "      <td>2</td>\n",
       "    </tr>\n",
       "    <tr>\n",
       "      <th>9997</th>\n",
       "      <td>2011-12-16 15:37:00.000000179</td>\n",
       "      <td>5.7</td>\n",
       "      <td>2011-12-16 15:37:00 UTC</td>\n",
       "      <td>-74.002112</td>\n",
       "      <td>40.748727</td>\n",
       "      <td>-73.992467</td>\n",
       "      <td>40.756252</td>\n",
       "      <td>1</td>\n",
       "    </tr>\n",
       "    <tr>\n",
       "      <th>9998</th>\n",
       "      <td>2013-11-16 22:47:17.0000001</td>\n",
       "      <td>12.0</td>\n",
       "      <td>2013-11-16 22:47:17 UTC</td>\n",
       "      <td>-73.992093</td>\n",
       "      <td>40.729071</td>\n",
       "      <td>-73.974470</td>\n",
       "      <td>40.763050</td>\n",
       "      <td>2</td>\n",
       "    </tr>\n",
       "  </tbody>\n",
       "</table>\n",
       "<p>9998 rows × 8 columns</p>\n",
       "</div>"
      ],
      "text/plain": [
       "                                key  fare_amount          pickup_datetime  \\\n",
       "0     2010-04-23 15:12:00.000000132          4.1  2010-04-23 15:12:00 UTC   \n",
       "1       2009-06-15 17:26:21.0000001          4.5  2009-06-15 17:26:21 UTC   \n",
       "2       2010-01-05 16:52:16.0000002         16.9  2010-01-05 16:52:16 UTC   \n",
       "3      2011-08-18 00:35:00.00000049          5.7  2011-08-18 00:35:00 UTC   \n",
       "4       2012-04-21 04:30:42.0000001          7.7  2012-04-21 04:30:42 UTC   \n",
       "...                             ...          ...                      ...   \n",
       "9994    2010-02-15 15:52:46.0000006          6.5  2010-02-15 15:52:46 UTC   \n",
       "9995    2010-08-27 08:45:01.0000004          4.1  2010-08-27 08:45:01 UTC   \n",
       "9996   2011-10-26 10:44:00.00000086         11.7  2011-10-26 10:44:00 UTC   \n",
       "9997  2011-12-16 15:37:00.000000179          5.7  2011-12-16 15:37:00 UTC   \n",
       "9998    2013-11-16 22:47:17.0000001         12.0  2013-11-16 22:47:17 UTC   \n",
       "\n",
       "      pickup_longitude  pickup_latitude  dropoff_longitude  dropoff_latitude  \\\n",
       "0           -73.973925        40.748950         -73.966458         40.753695   \n",
       "1           -73.844311        40.721319         -73.841610         40.712278   \n",
       "2           -74.016048        40.711303         -73.979268         40.782004   \n",
       "3           -73.982738        40.761270         -73.991242         40.750562   \n",
       "4           -73.987130        40.733143         -73.991567         40.758092   \n",
       "...                ...              ...                ...               ...   \n",
       "9994        -74.004429        40.721271         -74.006460         40.739435   \n",
       "9995        -73.983616        40.756005         -73.976169         40.763282   \n",
       "9996        -73.988277        40.748970         -73.963712         40.773958   \n",
       "9997        -74.002112        40.748727         -73.992467         40.756252   \n",
       "9998        -73.992093        40.729071         -73.974470         40.763050   \n",
       "\n",
       "      passenger_count  \n",
       "0                   1  \n",
       "1                   1  \n",
       "2                   1  \n",
       "3                   2  \n",
       "4                   1  \n",
       "...               ...  \n",
       "9994                3  \n",
       "9995                1  \n",
       "9996                2  \n",
       "9997                1  \n",
       "9998                2  \n",
       "\n",
       "[9998 rows x 8 columns]"
      ]
     },
     "execution_count": 7,
     "metadata": {},
     "output_type": "execute_result"
    }
   ],
   "source": [
    "df = df[df['pickup_latitude'] <=90]\n",
    "df"
   ]
  },
  {
   "cell_type": "markdown",
   "id": "d2d3b5ac-8d9d-4767-9d31-02974b05b985",
   "metadata": {
    "id": "d2d3b5ac-8d9d-4767-9d31-02974b05b985"
   },
   "source": [
    "# Geo distance calculate"
   ]
  },
  {
   "cell_type": "code",
   "execution_count": 8,
   "id": "352b038b-edde-4278-bf63-33deaab74242",
   "metadata": {
    "id": "352b038b-edde-4278-bf63-33deaab74242"
   },
   "outputs": [],
   "source": [
    "from geopy.distance import geodesic"
   ]
  },
  {
   "cell_type": "code",
   "execution_count": 9,
   "id": "244fda38-529d-43be-884f-0fe5084cd639",
   "metadata": {
    "id": "244fda38-529d-43be-884f-0fe5084cd639",
    "outputId": "07d2efb3-93fa-42fa-be75-9e6ef286ef7f"
   },
   "outputs": [
    {
     "data": {
      "text/plain": [
       "235.95"
      ]
     },
     "execution_count": 9,
     "metadata": {},
     "output_type": "execute_result"
    }
   ],
   "source": [
    "delhi = (28.6139,77.2090)\n",
    "haldwani = (29.2197,79.5286)\n",
    "round(geodesic(haldwani,delhi).km,2)"
   ]
  },
  {
   "cell_type": "code",
   "execution_count": 10,
   "id": "9c8337b7-57b0-4c26-b471-b51ada836343",
   "metadata": {
    "id": "9c8337b7-57b0-4c26-b471-b51ada836343"
   },
   "outputs": [],
   "source": [
    "def distance(pickup_lat,pickup_lon,dropoff_lat,dropoff_lon):\n",
    "    return round(geodesic((pickup_lat,pickup_lon),(dropoff_lat,dropoff_lon)).miles,2)"
   ]
  },
  {
   "cell_type": "code",
   "execution_count": 11,
   "id": "881cc92f-9d6e-4632-bdb2-a2cca0ca37b4",
   "metadata": {
    "id": "881cc92f-9d6e-4632-bdb2-a2cca0ca37b4",
    "outputId": "d0ce6372-4eb0-4c8e-dc01-cc69c118f75a"
   },
   "outputs": [
    {
     "data": {
      "text/plain": [
       "146.61"
      ]
     },
     "execution_count": 11,
     "metadata": {},
     "output_type": "execute_result"
    }
   ],
   "source": [
    "distance(28.6139,77.2090,29.2197,79.5286)"
   ]
  },
  {
   "cell_type": "code",
   "execution_count": 12,
   "id": "ae3b9e7b-cc17-45e6-9549-7ab97c8119e3",
   "metadata": {
    "id": "ae3b9e7b-cc17-45e6-9549-7ab97c8119e3",
    "outputId": "d277cd4c-bed1-41a5-c19f-a4202b0ce60d"
   },
   "outputs": [
    {
     "data": {
      "text/plain": [
       "0        (40.74895, -73.973925, 40.753695, -73.966458)\n",
       "1        (40.721319, -73.844311, 40.712278, -73.84161)\n",
       "2       (40.711303, -74.016048, 40.782004, -73.979268)\n",
       "3        (40.76127, -73.982738, 40.750562, -73.991242)\n",
       "4        (40.733143, -73.98713, 40.758092, -73.991567)\n",
       "                             ...                      \n",
       "9994     (40.721271, -74.004429, 40.739435, -74.00646)\n",
       "9995    (40.756005, -73.983616, 40.763282, -73.976169)\n",
       "9996     (40.74897, -73.988277, 40.773958, -73.963712)\n",
       "9997    (40.748727, -74.002112, 40.756252, -73.992467)\n",
       "9998      (40.729071, -73.992093, 40.76305, -73.97447)\n",
       "Length: 9998, dtype: object"
      ]
     },
     "execution_count": 12,
     "metadata": {},
     "output_type": "execute_result"
    }
   ],
   "source": [
    "df.apply(lambda row:\n",
    "         (row['pickup_latitude'],row['pickup_longitude'],\n",
    "         row['dropoff_latitude'],row['dropoff_longitude']),axis = 1)"
   ]
  },
  {
   "cell_type": "markdown",
   "id": "7534c694-3d98-4065-ab54-cb4ecee36d32",
   "metadata": {
    "id": "7534c694-3d98-4065-ab54-cb4ecee36d32"
   },
   "source": [
    "# Create New column Distance"
   ]
  },
  {
   "cell_type": "code",
   "execution_count": 13,
   "id": "002fcaed-ef7e-467c-ae09-9de2fa702185",
   "metadata": {
    "id": "002fcaed-ef7e-467c-ae09-9de2fa702185"
   },
   "outputs": [],
   "source": [
    "df['distance'] = df.apply(lambda raw:distance(raw['pickup_latitude'],raw['pickup_longitude'],raw['dropoff_latitude'],raw['dropoff_longitude']),axis = 1)"
   ]
  },
  {
   "cell_type": "code",
   "execution_count": 14,
   "id": "223cd2f1-5bdb-4b1c-afec-29696241da3c",
   "metadata": {
    "id": "223cd2f1-5bdb-4b1c-afec-29696241da3c",
    "outputId": "a0f2f54d-faad-4219-8ebb-d86b4da40826"
   },
   "outputs": [
    {
     "data": {
      "text/html": [
       "<div>\n",
       "<style scoped>\n",
       "    .dataframe tbody tr th:only-of-type {\n",
       "        vertical-align: middle;\n",
       "    }\n",
       "\n",
       "    .dataframe tbody tr th {\n",
       "        vertical-align: top;\n",
       "    }\n",
       "\n",
       "    .dataframe thead th {\n",
       "        text-align: right;\n",
       "    }\n",
       "</style>\n",
       "<table border=\"1\" class=\"dataframe\">\n",
       "  <thead>\n",
       "    <tr style=\"text-align: right;\">\n",
       "      <th></th>\n",
       "      <th>key</th>\n",
       "      <th>fare_amount</th>\n",
       "      <th>pickup_datetime</th>\n",
       "      <th>pickup_longitude</th>\n",
       "      <th>pickup_latitude</th>\n",
       "      <th>dropoff_longitude</th>\n",
       "      <th>dropoff_latitude</th>\n",
       "      <th>passenger_count</th>\n",
       "      <th>distance</th>\n",
       "    </tr>\n",
       "  </thead>\n",
       "  <tbody>\n",
       "    <tr>\n",
       "      <th>0</th>\n",
       "      <td>2010-04-23 15:12:00.000000132</td>\n",
       "      <td>4.1</td>\n",
       "      <td>2010-04-23 15:12:00 UTC</td>\n",
       "      <td>-73.973925</td>\n",
       "      <td>40.748950</td>\n",
       "      <td>-73.966458</td>\n",
       "      <td>40.753695</td>\n",
       "      <td>1</td>\n",
       "      <td>0.51</td>\n",
       "    </tr>\n",
       "    <tr>\n",
       "      <th>1</th>\n",
       "      <td>2009-06-15 17:26:21.0000001</td>\n",
       "      <td>4.5</td>\n",
       "      <td>2009-06-15 17:26:21 UTC</td>\n",
       "      <td>-73.844311</td>\n",
       "      <td>40.721319</td>\n",
       "      <td>-73.841610</td>\n",
       "      <td>40.712278</td>\n",
       "      <td>1</td>\n",
       "      <td>0.64</td>\n",
       "    </tr>\n",
       "    <tr>\n",
       "      <th>2</th>\n",
       "      <td>2010-01-05 16:52:16.0000002</td>\n",
       "      <td>16.9</td>\n",
       "      <td>2010-01-05 16:52:16 UTC</td>\n",
       "      <td>-74.016048</td>\n",
       "      <td>40.711303</td>\n",
       "      <td>-73.979268</td>\n",
       "      <td>40.782004</td>\n",
       "      <td>1</td>\n",
       "      <td>5.25</td>\n",
       "    </tr>\n",
       "    <tr>\n",
       "      <th>3</th>\n",
       "      <td>2011-08-18 00:35:00.00000049</td>\n",
       "      <td>5.7</td>\n",
       "      <td>2011-08-18 00:35:00 UTC</td>\n",
       "      <td>-73.982738</td>\n",
       "      <td>40.761270</td>\n",
       "      <td>-73.991242</td>\n",
       "      <td>40.750562</td>\n",
       "      <td>2</td>\n",
       "      <td>0.86</td>\n",
       "    </tr>\n",
       "    <tr>\n",
       "      <th>4</th>\n",
       "      <td>2012-04-21 04:30:42.0000001</td>\n",
       "      <td>7.7</td>\n",
       "      <td>2012-04-21 04:30:42 UTC</td>\n",
       "      <td>-73.987130</td>\n",
       "      <td>40.733143</td>\n",
       "      <td>-73.991567</td>\n",
       "      <td>40.758092</td>\n",
       "      <td>1</td>\n",
       "      <td>1.74</td>\n",
       "    </tr>\n",
       "    <tr>\n",
       "      <th>...</th>\n",
       "      <td>...</td>\n",
       "      <td>...</td>\n",
       "      <td>...</td>\n",
       "      <td>...</td>\n",
       "      <td>...</td>\n",
       "      <td>...</td>\n",
       "      <td>...</td>\n",
       "      <td>...</td>\n",
       "      <td>...</td>\n",
       "    </tr>\n",
       "    <tr>\n",
       "      <th>9994</th>\n",
       "      <td>2010-02-15 15:52:46.0000006</td>\n",
       "      <td>6.5</td>\n",
       "      <td>2010-02-15 15:52:46 UTC</td>\n",
       "      <td>-74.004429</td>\n",
       "      <td>40.721271</td>\n",
       "      <td>-74.006460</td>\n",
       "      <td>40.739435</td>\n",
       "      <td>3</td>\n",
       "      <td>1.26</td>\n",
       "    </tr>\n",
       "    <tr>\n",
       "      <th>9995</th>\n",
       "      <td>2010-08-27 08:45:01.0000004</td>\n",
       "      <td>4.1</td>\n",
       "      <td>2010-08-27 08:45:01 UTC</td>\n",
       "      <td>-73.983616</td>\n",
       "      <td>40.756005</td>\n",
       "      <td>-73.976169</td>\n",
       "      <td>40.763282</td>\n",
       "      <td>1</td>\n",
       "      <td>0.64</td>\n",
       "    </tr>\n",
       "    <tr>\n",
       "      <th>9996</th>\n",
       "      <td>2011-10-26 10:44:00.00000086</td>\n",
       "      <td>11.7</td>\n",
       "      <td>2011-10-26 10:44:00 UTC</td>\n",
       "      <td>-73.988277</td>\n",
       "      <td>40.748970</td>\n",
       "      <td>-73.963712</td>\n",
       "      <td>40.773958</td>\n",
       "      <td>2</td>\n",
       "      <td>2.15</td>\n",
       "    </tr>\n",
       "    <tr>\n",
       "      <th>9997</th>\n",
       "      <td>2011-12-16 15:37:00.000000179</td>\n",
       "      <td>5.7</td>\n",
       "      <td>2011-12-16 15:37:00 UTC</td>\n",
       "      <td>-74.002112</td>\n",
       "      <td>40.748727</td>\n",
       "      <td>-73.992467</td>\n",
       "      <td>40.756252</td>\n",
       "      <td>1</td>\n",
       "      <td>0.73</td>\n",
       "    </tr>\n",
       "    <tr>\n",
       "      <th>9998</th>\n",
       "      <td>2013-11-16 22:47:17.0000001</td>\n",
       "      <td>12.0</td>\n",
       "      <td>2013-11-16 22:47:17 UTC</td>\n",
       "      <td>-73.992093</td>\n",
       "      <td>40.729071</td>\n",
       "      <td>-73.974470</td>\n",
       "      <td>40.763050</td>\n",
       "      <td>2</td>\n",
       "      <td>2.52</td>\n",
       "    </tr>\n",
       "  </tbody>\n",
       "</table>\n",
       "<p>9998 rows × 9 columns</p>\n",
       "</div>"
      ],
      "text/plain": [
       "                                key  fare_amount          pickup_datetime  \\\n",
       "0     2010-04-23 15:12:00.000000132          4.1  2010-04-23 15:12:00 UTC   \n",
       "1       2009-06-15 17:26:21.0000001          4.5  2009-06-15 17:26:21 UTC   \n",
       "2       2010-01-05 16:52:16.0000002         16.9  2010-01-05 16:52:16 UTC   \n",
       "3      2011-08-18 00:35:00.00000049          5.7  2011-08-18 00:35:00 UTC   \n",
       "4       2012-04-21 04:30:42.0000001          7.7  2012-04-21 04:30:42 UTC   \n",
       "...                             ...          ...                      ...   \n",
       "9994    2010-02-15 15:52:46.0000006          6.5  2010-02-15 15:52:46 UTC   \n",
       "9995    2010-08-27 08:45:01.0000004          4.1  2010-08-27 08:45:01 UTC   \n",
       "9996   2011-10-26 10:44:00.00000086         11.7  2011-10-26 10:44:00 UTC   \n",
       "9997  2011-12-16 15:37:00.000000179          5.7  2011-12-16 15:37:00 UTC   \n",
       "9998    2013-11-16 22:47:17.0000001         12.0  2013-11-16 22:47:17 UTC   \n",
       "\n",
       "      pickup_longitude  pickup_latitude  dropoff_longitude  dropoff_latitude  \\\n",
       "0           -73.973925        40.748950         -73.966458         40.753695   \n",
       "1           -73.844311        40.721319         -73.841610         40.712278   \n",
       "2           -74.016048        40.711303         -73.979268         40.782004   \n",
       "3           -73.982738        40.761270         -73.991242         40.750562   \n",
       "4           -73.987130        40.733143         -73.991567         40.758092   \n",
       "...                ...              ...                ...               ...   \n",
       "9994        -74.004429        40.721271         -74.006460         40.739435   \n",
       "9995        -73.983616        40.756005         -73.976169         40.763282   \n",
       "9996        -73.988277        40.748970         -73.963712         40.773958   \n",
       "9997        -74.002112        40.748727         -73.992467         40.756252   \n",
       "9998        -73.992093        40.729071         -73.974470         40.763050   \n",
       "\n",
       "      passenger_count  distance  \n",
       "0                   1      0.51  \n",
       "1                   1      0.64  \n",
       "2                   1      5.25  \n",
       "3                   2      0.86  \n",
       "4                   1      1.74  \n",
       "...               ...       ...  \n",
       "9994                3      1.26  \n",
       "9995                1      0.64  \n",
       "9996                2      2.15  \n",
       "9997                1      0.73  \n",
       "9998                2      2.52  \n",
       "\n",
       "[9998 rows x 9 columns]"
      ]
     },
     "execution_count": 14,
     "metadata": {},
     "output_type": "execute_result"
    }
   ],
   "source": [
    "df"
   ]
  },
  {
   "cell_type": "code",
   "execution_count": 15,
   "id": "11d307ee-65b4-4349-a505-188616c15e4c",
   "metadata": {
    "id": "11d307ee-65b4-4349-a505-188616c15e4c",
    "outputId": "5b5e567d-f216-49eb-9c5b-e8acf8d1e5ab"
   },
   "outputs": [
    {
     "name": "stdout",
     "output_type": "stream",
     "text": [
      "<class 'pandas.core.frame.DataFrame'>\n",
      "Index: 9998 entries, 0 to 9998\n",
      "Data columns (total 9 columns):\n",
      " #   Column             Non-Null Count  Dtype  \n",
      "---  ------             --------------  -----  \n",
      " 0   key                9998 non-null   object \n",
      " 1   fare_amount        9998 non-null   float64\n",
      " 2   pickup_datetime    9998 non-null   object \n",
      " 3   pickup_longitude   9998 non-null   float64\n",
      " 4   pickup_latitude    9998 non-null   float64\n",
      " 5   dropoff_longitude  9998 non-null   float64\n",
      " 6   dropoff_latitude   9998 non-null   float64\n",
      " 7   passenger_count    9998 non-null   int64  \n",
      " 8   distance           9998 non-null   float64\n",
      "dtypes: float64(6), int64(1), object(2)\n",
      "memory usage: 781.1+ KB\n"
     ]
    }
   ],
   "source": [
    "df.info()"
   ]
  },
  {
   "cell_type": "markdown",
   "id": "c36d38cf-474c-4366-b5b8-32ee297df584",
   "metadata": {
    "id": "c36d38cf-474c-4366-b5b8-32ee297df584"
   },
   "source": [
    "# Convert object to datetime"
   ]
  },
  {
   "cell_type": "code",
   "execution_count": 16,
   "id": "71d232ff-f75f-48fb-98ed-cc6fc32df95f",
   "metadata": {
    "id": "71d232ff-f75f-48fb-98ed-cc6fc32df95f"
   },
   "outputs": [],
   "source": [
    "df['pickup_datetime'] = pd.to_datetime(df.pickup_datetime)"
   ]
  },
  {
   "cell_type": "code",
   "execution_count": 17,
   "id": "a84b22fe-3340-4bc2-8228-72f083588ebf",
   "metadata": {
    "id": "a84b22fe-3340-4bc2-8228-72f083588ebf",
    "outputId": "5323ca70-4a2f-4a3d-f214-4a66b5521d5b"
   },
   "outputs": [
    {
     "name": "stdout",
     "output_type": "stream",
     "text": [
      "<class 'pandas.core.frame.DataFrame'>\n",
      "Index: 9998 entries, 0 to 9998\n",
      "Data columns (total 9 columns):\n",
      " #   Column             Non-Null Count  Dtype              \n",
      "---  ------             --------------  -----              \n",
      " 0   key                9998 non-null   object             \n",
      " 1   fare_amount        9998 non-null   float64            \n",
      " 2   pickup_datetime    9998 non-null   datetime64[ns, UTC]\n",
      " 3   pickup_longitude   9998 non-null   float64            \n",
      " 4   pickup_latitude    9998 non-null   float64            \n",
      " 5   dropoff_longitude  9998 non-null   float64            \n",
      " 6   dropoff_latitude   9998 non-null   float64            \n",
      " 7   passenger_count    9998 non-null   int64              \n",
      " 8   distance           9998 non-null   float64            \n",
      "dtypes: datetime64[ns, UTC](1), float64(6), int64(1), object(1)\n",
      "memory usage: 781.1+ KB\n"
     ]
    }
   ],
   "source": [
    "df.info()"
   ]
  },
  {
   "cell_type": "markdown",
   "id": "56436371-89e1-4d9a-b1c6-d124939e0c5d",
   "metadata": {
    "id": "56436371-89e1-4d9a-b1c6-d124939e0c5d"
   },
   "source": [
    "# # Extract date and time features"
   ]
  },
  {
   "cell_type": "code",
   "execution_count": 18,
   "id": "d4846d84-688c-43a0-bdb4-cb34177946ee",
   "metadata": {
    "id": "d4846d84-688c-43a0-bdb4-cb34177946ee"
   },
   "outputs": [],
   "source": [
    "df['year'] = df.pickup_datetime.dt.year\n",
    "df['month'] = df.pickup_datetime.dt.month\n",
    "df['day'] = df.pickup_datetime.dt.day\n",
    "df['hour'] = df.pickup_datetime.dt.hour\n",
    "df['minute'] = df.pickup_datetime.dt.minute\n",
    "df['second'] = df.pickup_datetime.dt.second"
   ]
  },
  {
   "cell_type": "code",
   "execution_count": 19,
   "id": "5ca07be3-1b77-485d-913d-7814d6650f53",
   "metadata": {
    "id": "5ca07be3-1b77-485d-913d-7814d6650f53",
    "outputId": "a38c2291-7b29-4159-a3d0-669fc03ecc77"
   },
   "outputs": [
    {
     "data": {
      "text/html": [
       "<div>\n",
       "<style scoped>\n",
       "    .dataframe tbody tr th:only-of-type {\n",
       "        vertical-align: middle;\n",
       "    }\n",
       "\n",
       "    .dataframe tbody tr th {\n",
       "        vertical-align: top;\n",
       "    }\n",
       "\n",
       "    .dataframe thead th {\n",
       "        text-align: right;\n",
       "    }\n",
       "</style>\n",
       "<table border=\"1\" class=\"dataframe\">\n",
       "  <thead>\n",
       "    <tr style=\"text-align: right;\">\n",
       "      <th></th>\n",
       "      <th>key</th>\n",
       "      <th>fare_amount</th>\n",
       "      <th>pickup_datetime</th>\n",
       "      <th>pickup_longitude</th>\n",
       "      <th>pickup_latitude</th>\n",
       "      <th>dropoff_longitude</th>\n",
       "      <th>dropoff_latitude</th>\n",
       "      <th>passenger_count</th>\n",
       "      <th>distance</th>\n",
       "      <th>year</th>\n",
       "      <th>month</th>\n",
       "      <th>day</th>\n",
       "      <th>hour</th>\n",
       "      <th>minute</th>\n",
       "      <th>second</th>\n",
       "    </tr>\n",
       "  </thead>\n",
       "  <tbody>\n",
       "    <tr>\n",
       "      <th>0</th>\n",
       "      <td>2010-04-23 15:12:00.000000132</td>\n",
       "      <td>4.1</td>\n",
       "      <td>2010-04-23 15:12:00+00:00</td>\n",
       "      <td>-73.973925</td>\n",
       "      <td>40.748950</td>\n",
       "      <td>-73.966458</td>\n",
       "      <td>40.753695</td>\n",
       "      <td>1</td>\n",
       "      <td>0.51</td>\n",
       "      <td>2010</td>\n",
       "      <td>4</td>\n",
       "      <td>23</td>\n",
       "      <td>15</td>\n",
       "      <td>12</td>\n",
       "      <td>0</td>\n",
       "    </tr>\n",
       "    <tr>\n",
       "      <th>1</th>\n",
       "      <td>2009-06-15 17:26:21.0000001</td>\n",
       "      <td>4.5</td>\n",
       "      <td>2009-06-15 17:26:21+00:00</td>\n",
       "      <td>-73.844311</td>\n",
       "      <td>40.721319</td>\n",
       "      <td>-73.841610</td>\n",
       "      <td>40.712278</td>\n",
       "      <td>1</td>\n",
       "      <td>0.64</td>\n",
       "      <td>2009</td>\n",
       "      <td>6</td>\n",
       "      <td>15</td>\n",
       "      <td>17</td>\n",
       "      <td>26</td>\n",
       "      <td>21</td>\n",
       "    </tr>\n",
       "    <tr>\n",
       "      <th>2</th>\n",
       "      <td>2010-01-05 16:52:16.0000002</td>\n",
       "      <td>16.9</td>\n",
       "      <td>2010-01-05 16:52:16+00:00</td>\n",
       "      <td>-74.016048</td>\n",
       "      <td>40.711303</td>\n",
       "      <td>-73.979268</td>\n",
       "      <td>40.782004</td>\n",
       "      <td>1</td>\n",
       "      <td>5.25</td>\n",
       "      <td>2010</td>\n",
       "      <td>1</td>\n",
       "      <td>5</td>\n",
       "      <td>16</td>\n",
       "      <td>52</td>\n",
       "      <td>16</td>\n",
       "    </tr>\n",
       "    <tr>\n",
       "      <th>3</th>\n",
       "      <td>2011-08-18 00:35:00.00000049</td>\n",
       "      <td>5.7</td>\n",
       "      <td>2011-08-18 00:35:00+00:00</td>\n",
       "      <td>-73.982738</td>\n",
       "      <td>40.761270</td>\n",
       "      <td>-73.991242</td>\n",
       "      <td>40.750562</td>\n",
       "      <td>2</td>\n",
       "      <td>0.86</td>\n",
       "      <td>2011</td>\n",
       "      <td>8</td>\n",
       "      <td>18</td>\n",
       "      <td>0</td>\n",
       "      <td>35</td>\n",
       "      <td>0</td>\n",
       "    </tr>\n",
       "    <tr>\n",
       "      <th>4</th>\n",
       "      <td>2012-04-21 04:30:42.0000001</td>\n",
       "      <td>7.7</td>\n",
       "      <td>2012-04-21 04:30:42+00:00</td>\n",
       "      <td>-73.987130</td>\n",
       "      <td>40.733143</td>\n",
       "      <td>-73.991567</td>\n",
       "      <td>40.758092</td>\n",
       "      <td>1</td>\n",
       "      <td>1.74</td>\n",
       "      <td>2012</td>\n",
       "      <td>4</td>\n",
       "      <td>21</td>\n",
       "      <td>4</td>\n",
       "      <td>30</td>\n",
       "      <td>42</td>\n",
       "    </tr>\n",
       "  </tbody>\n",
       "</table>\n",
       "</div>"
      ],
      "text/plain": [
       "                             key  fare_amount           pickup_datetime  \\\n",
       "0  2010-04-23 15:12:00.000000132          4.1 2010-04-23 15:12:00+00:00   \n",
       "1    2009-06-15 17:26:21.0000001          4.5 2009-06-15 17:26:21+00:00   \n",
       "2    2010-01-05 16:52:16.0000002         16.9 2010-01-05 16:52:16+00:00   \n",
       "3   2011-08-18 00:35:00.00000049          5.7 2011-08-18 00:35:00+00:00   \n",
       "4    2012-04-21 04:30:42.0000001          7.7 2012-04-21 04:30:42+00:00   \n",
       "\n",
       "   pickup_longitude  pickup_latitude  dropoff_longitude  dropoff_latitude  \\\n",
       "0        -73.973925        40.748950         -73.966458         40.753695   \n",
       "1        -73.844311        40.721319         -73.841610         40.712278   \n",
       "2        -74.016048        40.711303         -73.979268         40.782004   \n",
       "3        -73.982738        40.761270         -73.991242         40.750562   \n",
       "4        -73.987130        40.733143         -73.991567         40.758092   \n",
       "\n",
       "   passenger_count  distance  year  month  day  hour  minute  second  \n",
       "0                1      0.51  2010      4   23    15      12       0  \n",
       "1                1      0.64  2009      6   15    17      26      21  \n",
       "2                1      5.25  2010      1    5    16      52      16  \n",
       "3                2      0.86  2011      8   18     0      35       0  \n",
       "4                1      1.74  2012      4   21     4      30      42  "
      ]
     },
     "execution_count": 19,
     "metadata": {},
     "output_type": "execute_result"
    }
   ],
   "source": [
    "df.head()"
   ]
  },
  {
   "cell_type": "markdown",
   "id": "2f392830-734e-4093-b526-d03dde29f1a6",
   "metadata": {
    "id": "2f392830-734e-4093-b526-d03dde29f1a6"
   },
   "source": [
    "# drop pickup_datetime & key"
   ]
  },
  {
   "cell_type": "code",
   "execution_count": 20,
   "id": "20e779e4-53fc-4140-990e-bfac749d7171",
   "metadata": {
    "id": "20e779e4-53fc-4140-990e-bfac749d7171"
   },
   "outputs": [],
   "source": [
    "df.drop(['pickup_datetime','key'],axis = 1,inplace = True)"
   ]
  },
  {
   "cell_type": "code",
   "execution_count": 21,
   "id": "d7458959-4579-4eb5-8ade-417326a59bae",
   "metadata": {
    "id": "d7458959-4579-4eb5-8ade-417326a59bae",
    "outputId": "2bb06028-b300-4966-ff98-eae72efbc058"
   },
   "outputs": [
    {
     "name": "stdout",
     "output_type": "stream",
     "text": [
      "<class 'pandas.core.frame.DataFrame'>\n",
      "Index: 9998 entries, 0 to 9998\n",
      "Data columns (total 13 columns):\n",
      " #   Column             Non-Null Count  Dtype  \n",
      "---  ------             --------------  -----  \n",
      " 0   fare_amount        9998 non-null   float64\n",
      " 1   pickup_longitude   9998 non-null   float64\n",
      " 2   pickup_latitude    9998 non-null   float64\n",
      " 3   dropoff_longitude  9998 non-null   float64\n",
      " 4   dropoff_latitude   9998 non-null   float64\n",
      " 5   passenger_count    9998 non-null   int64  \n",
      " 6   distance           9998 non-null   float64\n",
      " 7   year               9998 non-null   int32  \n",
      " 8   month              9998 non-null   int32  \n",
      " 9   day                9998 non-null   int32  \n",
      " 10  hour               9998 non-null   int32  \n",
      " 11  minute             9998 non-null   int32  \n",
      " 12  second             9998 non-null   int32  \n",
      "dtypes: float64(6), int32(6), int64(1)\n",
      "memory usage: 859.2 KB\n"
     ]
    }
   ],
   "source": [
    "df.info()"
   ]
  },
  {
   "cell_type": "code",
   "execution_count": 22,
   "id": "7e278c66-f643-4042-b851-1c024ed46154",
   "metadata": {
    "id": "7e278c66-f643-4042-b851-1c024ed46154",
    "outputId": "f4e42034-bda0-43d8-9ebd-68aafd03cba5"
   },
   "outputs": [
    {
     "data": {
      "text/plain": [
       "(9998, 13)"
      ]
     },
     "execution_count": 22,
     "metadata": {},
     "output_type": "execute_result"
    }
   ],
   "source": [
    "df.shape"
   ]
  },
  {
   "cell_type": "markdown",
   "id": "1ea2ce12-c1ed-4750-b969-e1a37880c853",
   "metadata": {
    "id": "1ea2ce12-c1ed-4750-b969-e1a37880c853"
   },
   "source": [
    "# Null values check"
   ]
  },
  {
   "cell_type": "code",
   "execution_count": 23,
   "id": "2ff2dcaf-934d-44b0-96c4-2e6f2cc83c7a",
   "metadata": {
    "id": "2ff2dcaf-934d-44b0-96c4-2e6f2cc83c7a",
    "outputId": "701aa9e9-ffc4-40f4-bfc9-8d78cb7e323b"
   },
   "outputs": [
    {
     "data": {
      "text/plain": [
       "fare_amount          0\n",
       "pickup_longitude     0\n",
       "pickup_latitude      0\n",
       "dropoff_longitude    0\n",
       "dropoff_latitude     0\n",
       "passenger_count      0\n",
       "distance             0\n",
       "year                 0\n",
       "month                0\n",
       "day                  0\n",
       "hour                 0\n",
       "minute               0\n",
       "second               0\n",
       "dtype: int64"
      ]
     },
     "execution_count": 23,
     "metadata": {},
     "output_type": "execute_result"
    }
   ],
   "source": [
    "df.isna().sum()"
   ]
  },
  {
   "cell_type": "markdown",
   "id": "e0d9171c-d194-4c5a-bd06-6ea13478c2ce",
   "metadata": {
    "id": "e0d9171c-d194-4c5a-bd06-6ea13478c2ce"
   },
   "source": [
    "# Univariate analysis of fare amount"
   ]
  },
  {
   "cell_type": "code",
   "execution_count": 24,
   "id": "d6830a2b-c8e1-4ac9-b189-d843dde9b472",
   "metadata": {
    "id": "d6830a2b-c8e1-4ac9-b189-d843dde9b472",
    "outputId": "a7a56905-2276-4322-edb1-090092866f56"
   },
   "outputs": [
    {
     "data": {
      "text/plain": [
       "<Axes: ylabel='Frequency'>"
      ]
     },
     "execution_count": 24,
     "metadata": {},
     "output_type": "execute_result"
    },
    {
     "data": {
      "image/png": "[encoded data removed]",
      "text/plain": [
       "<Figure size 640x480 with 1 Axes>"
      ]
     },
     "metadata": {},
     "output_type": "display_data"
    }
   ],
   "source": [
    "df.fare_amount.plot(kind = 'hist')"
   ]
  },
  {
   "cell_type": "code",
   "execution_count": 25,
   "id": "12b35809-3efd-4e72-92a0-972ade23c536",
   "metadata": {
    "id": "12b35809-3efd-4e72-92a0-972ade23c536",
    "outputId": "3cfaeec6-d189-4633-913d-8b6d2de59e16"
   },
   "outputs": [
    {
     "data": {
      "text/plain": [
       "<Axes: xlabel='fare_amount', ylabel='Count'>"
      ]
     },
     "execution_count": 25,
     "metadata": {},
     "output_type": "execute_result"
    },
    {
     "data": {
      "image/png": "[encoded data removed]",
      "text/plain": [
       "<Figure size 640x480 with 1 Axes>"
      ]
     },
     "metadata": {},
     "output_type": "display_data"
    }
   ],
   "source": [
    "sns.histplot(df.fare_amount,kde = True)\n",
    "\n",
    "# Maximum fare lies between $2 to $20\n",
    "# Fare_amount has more outliers"
   ]
  },
  {
   "cell_type": "markdown",
   "id": "a8686fc1-5479-4f55-af66-5adae249b6b8",
   "metadata": {
    "id": "a8686fc1-5479-4f55-af66-5adae249b6b8"
   },
   "source": [
    "# Checking Outliers"
   ]
  },
  {
   "cell_type": "code",
   "execution_count": 26,
   "id": "9d733796-7bcf-4f82-819a-f12131567b9c",
   "metadata": {
    "id": "9d733796-7bcf-4f82-819a-f12131567b9c",
    "outputId": "e09b5174-722e-4caa-d43f-5082aebfcd32"
   },
   "outputs": [
    {
     "data": {
      "text/plain": [
       "<matplotlib.lines.Line2D at 0x1ae07718440>"
      ]
     },
     "execution_count": 26,
     "metadata": {},
     "output_type": "execute_result"
    },
    {
     "data": {
      "image/png": "[encoded data removed]",
      "text/plain": [
       "<Figure size 640x480 with 1 Axes>"
      ]
     },
     "metadata": {},
     "output_type": "display_data"
    }
   ],
   "source": [
    "df.fare_amount.plot(kind = 'box')\n",
    "plt.axhline(24)"
   ]
  },
  {
   "cell_type": "code",
   "execution_count": 27,
   "id": "33752788-643d-455d-b464-d0ece499b5fc",
   "metadata": {
    "id": "33752788-643d-455d-b464-d0ece499b5fc"
   },
   "outputs": [],
   "source": [
    "df = df[df.fare_amount<24]"
   ]
  },
  {
   "cell_type": "code",
   "execution_count": 28,
   "id": "2b6c8188-574b-4bfb-ba5d-eb1b878b2534",
   "metadata": {
    "id": "2b6c8188-574b-4bfb-ba5d-eb1b878b2534",
    "outputId": "e97cdc56-f883-43bb-ee3f-872ef428208a"
   },
   "outputs": [
    {
     "data": {
      "text/plain": [
       "(9234, 13)"
      ]
     },
     "execution_count": 28,
     "metadata": {},
     "output_type": "execute_result"
    }
   ],
   "source": [
    "df.shape"
   ]
  },
  {
   "cell_type": "code",
   "execution_count": 29,
   "id": "a164e278-0385-4845-8688-843ee1ff72d1",
   "metadata": {
    "id": "a164e278-0385-4845-8688-843ee1ff72d1",
    "outputId": "afc61d68-6a81-4de0-e144-3dbf8fe1997d"
   },
   "outputs": [
    {
     "data": {
      "text/plain": [
       "<Axes: >"
      ]
     },
     "execution_count": 29,
     "metadata": {},
     "output_type": "execute_result"
    },
    {
     "data": {
      "image/png": "[encoded data removed]",
      "text/plain": [
       "<Figure size 640x480 with 1 Axes>"
      ]
     },
     "metadata": {},
     "output_type": "display_data"
    }
   ],
   "source": [
    "df.fare_amount.plot(kind = 'box')"
   ]
  },
  {
   "cell_type": "markdown",
   "id": "179eb276-43ee-4952-9c5c-d7c203ebbb52",
   "metadata": {
    "id": "179eb276-43ee-4952-9c5c-d7c203ebbb52"
   },
   "source": [
    "# No of rides per year"
   ]
  },
  {
   "cell_type": "code",
   "execution_count": 30,
   "id": "def6b04a-5e54-41a1-81f1-a45c70e799dc",
   "metadata": {
    "id": "def6b04a-5e54-41a1-81f1-a45c70e799dc",
    "outputId": "bbf925f6-8718-4f68-c2cc-168bf03c2fa2"
   },
   "outputs": [
    {
     "data": {
      "text/plain": [
       "<Axes: xlabel='year', ylabel='count'>"
      ]
     },
     "execution_count": 30,
     "metadata": {},
     "output_type": "execute_result"
    },
    {
     "data": {
      "image/png": "[encoded data removed]",
      "text/plain": [
       "<Figure size 640x480 with 1 Axes>"
      ]
     },
     "metadata": {},
     "output_type": "display_data"
    }
   ],
   "source": [
    "sns.countplot(data = df,x='year',palette =sns.color_palette('magma') )"
   ]
  },
  {
   "cell_type": "markdown",
   "id": "ace0c079-c942-4f55-872a-4d575e0975cb",
   "metadata": {
    "id": "ace0c079-c942-4f55-872a-4d575e0975cb"
   },
   "source": [
    "## Rides for 2015"
   ]
  },
  {
   "cell_type": "code",
   "execution_count": 31,
   "id": "08c1ed64-9401-4d6f-9c1e-7ec6ea6a4fcf",
   "metadata": {
    "id": "08c1ed64-9401-4d6f-9c1e-7ec6ea6a4fcf",
    "outputId": "e364738e-1440-48c5-f02f-ac03fc788078"
   },
   "outputs": [
    {
     "data": {
      "text/plain": [
       "<Axes: xlabel='month', ylabel='count'>"
      ]
     },
     "execution_count": 31,
     "metadata": {},
     "output_type": "execute_result"
    },
    {
     "data": {
      "image/png": "[encoded data removed]",
      "text/plain": [
       "<Figure size 640x480 with 1 Axes>"
      ]
     },
     "metadata": {},
     "output_type": "display_data"
    }
   ],
   "source": [
    "sns.countplot(data = df[df.year == 2015],x='month')"
   ]
  },
  {
   "cell_type": "markdown",
   "id": "a4f51a87-921b-439b-bb56-20567c8b927b",
   "metadata": {
    "id": "a4f51a87-921b-439b-bb56-20567c8b927b"
   },
   "source": [
    "# Rides per day"
   ]
  },
  {
   "cell_type": "code",
   "execution_count": 32,
   "id": "292f6ade-24db-46e5-8c7b-05e6ac3ccac1",
   "metadata": {
    "id": "292f6ade-24db-46e5-8c7b-05e6ac3ccac1",
    "outputId": "c8b2874b-7c57-4984-8ffb-0b51c1a031fd"
   },
   "outputs": [
    {
     "data": {
      "image/png": "[encoded data removed]",
      "text/plain": [
       "<Figure size 640x480 with 1 Axes>"
      ]
     },
     "metadata": {},
     "output_type": "display_data"
    }
   ],
   "source": [
    "sns.countplot(data = df,x = 'day',palette = sns.color_palette('magma'))\n",
    "plt.xticks(rotation = 90)\n",
    "plt.show()\n",
    "\n",
    "\n",
    "# Per day maximum rides are more than 280\n",
    "# Ride drop in last day every month\n",
    "# user take atleast more than 200 ride daily\n",
    "# maximum rides on 8th and 16th of every month\n",
    "# Rides decrease gradually in last three days of month"
   ]
  },
  {
   "cell_type": "markdown",
   "id": "e8ebbbf4-9471-4442-9a9e-33251feea631",
   "metadata": {
    "id": "e8ebbbf4-9471-4442-9a9e-33251feea631"
   },
   "source": [
    "# distance vs fare_amount"
   ]
  },
  {
   "cell_type": "code",
   "execution_count": 33,
   "id": "7d403715-5305-4671-9ae1-a00482b9e000",
   "metadata": {
    "id": "7d403715-5305-4671-9ae1-a00482b9e000",
    "outputId": "1ead33b8-7d55-4424-9ce3-50cacfd9182c"
   },
   "outputs": [
    {
     "data": {
      "text/plain": [
       "<Axes: xlabel='distance', ylabel='fare_amount'>"
      ]
     },
     "execution_count": 33,
     "metadata": {},
     "output_type": "execute_result"
    },
    {
     "data": {
      "image/png": "[encoded data removed]",
      "text/plain": [
       "<Figure size 640x480 with 1 Axes>"
      ]
     },
     "metadata": {},
     "output_type": "display_data"
    }
   ],
   "source": [
    "sns.scatterplot(data = df, x = 'distance', y = 'fare_amount')\n",
    "\n",
    "# no such relation b/w fare amount and distance"
   ]
  },
  {
   "cell_type": "markdown",
   "id": "1110b322-877e-4bc8-80e9-4a14e0d4308c",
   "metadata": {
    "id": "1110b322-877e-4bc8-80e9-4a14e0d4308c"
   },
   "source": [
    "# Passenger_count vs fare_amount"
   ]
  },
  {
   "cell_type": "code",
   "execution_count": 34,
   "id": "e53519d0-204f-4a93-b9f8-d19f800fff5c",
   "metadata": {
    "id": "e53519d0-204f-4a93-b9f8-d19f800fff5c",
    "outputId": "f7108eb9-0bd9-4471-c679-d79d2ee92585"
   },
   "outputs": [
    {
     "data": {
      "text/plain": [
       "<Axes: xlabel='passenger_count', ylabel='fare_amount'>"
      ]
     },
     "execution_count": 34,
     "metadata": {},
     "output_type": "execute_result"
    },
    {
     "data": {
      "image/png": "[encoded data removed]",
      "text/plain": [
       "<Figure size 640x480 with 1 Axes>"
      ]
     },
     "metadata": {},
     "output_type": "display_data"
    }
   ],
   "source": [
    "sns.scatterplot(data = df, x = 'passenger_count', y = 'fare_amount')\n",
    "\n",
    "# no such relation b/w passenger_count and fare_amount"
   ]
  },
  {
   "cell_type": "code",
   "execution_count": 35,
   "id": "a1953291-8c40-49af-a660-c65fc47328b2",
   "metadata": {
    "id": "a1953291-8c40-49af-a660-c65fc47328b2",
    "outputId": "9e2215ec-b244-4c93-fca8-c7cc11a31ff6"
   },
   "outputs": [
    {
     "data": {
      "text/plain": [
       "<Axes: xlabel='distance', ylabel='fare_amount'>"
      ]
     },
     "execution_count": 35,
     "metadata": {},
     "output_type": "execute_result"
    },
    {
     "data": {
      "image/png": "[encoded data removed]",
      "text/plain": [
       "<Figure size 640x480 with 1 Axes>"
      ]
     },
     "metadata": {},
     "output_type": "display_data"
    }
   ],
   "source": [
    "sns.scatterplot(data = df,x='distance',y = 'fare_amount')"
   ]
  },
  {
   "cell_type": "code",
   "execution_count": 36,
   "id": "592bf9d2-a6c9-4afb-b7e8-e67b82b84484",
   "metadata": {
    "id": "592bf9d2-a6c9-4afb-b7e8-e67b82b84484"
   },
   "outputs": [],
   "source": [
    "df.to_csv('final_data.csv',index = False)"
   ]
  },
  {
   "cell_type": "code",
   "execution_count": 37,
   "id": "e2d654dd-454e-4187-b39d-99a0a908f984",
   "metadata": {
    "id": "e2d654dd-454e-4187-b39d-99a0a908f984"
   },
   "outputs": [],
   "source": [
    "df = pd.read_csv('final_data.csv')"
   ]
  },
  {
   "cell_type": "markdown",
   "id": "c6f5316e-f320-499f-ae51-62d10b749d1f",
   "metadata": {
    "id": "c6f5316e-f320-499f-ae51-62d10b749d1f"
   },
   "source": [
    "# Trani Test split"
   ]
  },
  {
   "cell_type": "code",
   "execution_count": 38,
   "id": "0374651c-5ca0-4228-be31-b010414e556f",
   "metadata": {
    "id": "0374651c-5ca0-4228-be31-b010414e556f"
   },
   "outputs": [],
   "source": [
    "X = df.drop('fare_amount',axis = 1)\n",
    "y = df.fare_amount"
   ]
  },
  {
   "cell_type": "code",
   "execution_count": 39,
   "id": "230d23e6-6f11-43b2-be38-af6d7244c6ef",
   "metadata": {
    "id": "230d23e6-6f11-43b2-be38-af6d7244c6ef"
   },
   "outputs": [],
   "source": [
    "scaler = StandardScaler()\n",
    "X_scale = scaler.fit_transform(X)"
   ]
  },
  {
   "cell_type": "code",
   "execution_count": 40,
   "id": "ec7002d7-1924-4496-a273-ac141a7e3aba",
   "metadata": {
    "id": "ec7002d7-1924-4496-a273-ac141a7e3aba"
   },
   "outputs": [],
   "source": [
    "X_train,X_test,y_train,y_test = train_test_split(X_scale,y,test_size = 0.2,random_state = 42)"
   ]
  },
  {
   "cell_type": "code",
   "execution_count": 41,
   "id": "7464dd1a-fb49-4f5d-ba90-3f7cb2be0973",
   "metadata": {
    "id": "7464dd1a-fb49-4f5d-ba90-3f7cb2be0973"
   },
   "outputs": [],
   "source": [
    "# model = BaggingRegressor(estimator = LinearRegression(),n_estimators = 2)\n",
    "# model.fit(X_train,y_train)\n",
    "# print(model.score(X_test,y_test))\n",
    "# cross_val_score(model,X_scale,y,cv = 5).mean()"
   ]
  },
  {
   "cell_type": "code",
   "execution_count": 42,
   "id": "fb4bbcaf-86a5-4290-8d72-5bfed3fd23e4",
   "metadata": {
    "id": "fb4bbcaf-86a5-4290-8d72-5bfed3fd23e4"
   },
   "outputs": [],
   "source": [
    "# model = AdaBoostRegressor(estimator = LinearRegression(),n_estimators = 2)\n",
    "# model.fit(X_train,y_train)\n",
    "# print(model.score(X_test,y_test))\n",
    "# cross_val_score(model,X_scale,y,cv = 5).mean()"
   ]
  },
  {
   "cell_type": "code",
   "execution_count": 43,
   "id": "385ecdeb-a623-4d5a-b786-ef696336e35d",
   "metadata": {
    "id": "385ecdeb-a623-4d5a-b786-ef696336e35d"
   },
   "outputs": [],
   "source": [
    "# model = GradientBoostingRegressor(n_estimators = 10,learning_rate = 1)\n",
    "# model.fit(X_train,y_train)\n",
    "# print(model.score(X_test,y_test))\n",
    "# cross_val_score(model,X_scale,y,cv = 5).mean()"
   ]
  },
  {
   "cell_type": "code",
   "execution_count": 44,
   "id": "5532794c-071f-4a00-8e20-720036f435c1",
   "metadata": {
    "id": "5532794c-071f-4a00-8e20-720036f435c1"
   },
   "outputs": [],
   "source": [
    "# model = XGBRegressor(n_estimators = 50,learning_rate = 1)\n",
    "# model.fit(X_train,y_train)\n",
    "# print(model.score(X_test,y_test))\n",
    "# cross_val_score(model,X_scale,y,cv = 5).mean()"
   ]
  },
  {
   "cell_type": "code",
   "execution_count": 45,
   "id": "fb5c6b10-5bd4-4c93-ad30-5b9f50729eb7",
   "metadata": {
    "id": "fb5c6b10-5bd4-4c93-ad30-5b9f50729eb7"
   },
   "outputs": [],
   "source": [
    "# lr_model = LinearRegression()\n",
    "# lr_model.fit(X_train,y_train)\n",
    "# lr_model.score(X_test,y_test)"
   ]
  },
  {
   "cell_type": "code",
   "execution_count": 46,
   "id": "27bb8036-7c52-4739-aac7-5954645adb76",
   "metadata": {
    "id": "27bb8036-7c52-4739-aac7-5954645adb76"
   },
   "outputs": [],
   "source": [
    "# rf_model = RandomForestRegressor()\n",
    "# rf_model.fit(X_train,y_train)\n",
    "# rf_model.score(X_test,y_test)"
   ]
  },
  {
   "cell_type": "markdown",
   "id": "a3f2a60c-d2f1-4182-9568-a90e700fe0c4",
   "metadata": {
    "id": "a3f2a60c-d2f1-4182-9568-a90e700fe0c4"
   },
   "source": [
    "# All Model Analysis"
   ]
  },
  {
   "cell_type": "code",
   "execution_count": 47,
   "id": "79bdf3bb-561b-4596-8563-5c583ceb62da",
   "metadata": {
    "id": "79bdf3bb-561b-4596-8563-5c583ceb62da"
   },
   "outputs": [],
   "source": [
    "# models = [LinearRegression(),DecisionTreeRegressor(),RandomForestRegressor(),Lasso(),Ridge(),SVR(),KNeighborsRegressor()]"
   ]
  },
  {
   "cell_type": "code",
   "execution_count": 48,
   "id": "7b22c4c8-1745-4b8c-aca0-9a232156758b",
   "metadata": {
    "id": "7b22c4c8-1745-4b8c-aca0-9a232156758b"
   },
   "outputs": [],
   "source": [
    "# models"
   ]
  },
  {
   "cell_type": "code",
   "execution_count": 49,
   "id": "15dd8b83-c6b5-4e64-a519-615988ebe62a",
   "metadata": {
    "id": "15dd8b83-c6b5-4e64-a519-615988ebe62a"
   },
   "outputs": [],
   "source": [
    "# def all_models_score(model,X,y):\n",
    "#     X_train,X_test,y_train,y_test = train_test_split(X,y,test_size = 0.2,random_state = 42)\n",
    "#     model.fit(X_train,y_train)\n",
    "#     score = model.score(X_test,y_test)\n",
    "#     cvs = cross_val_score(model,X,y,cv = 5).mean()\n",
    "#     y_pred = model.predict(X_test)\n",
    "\n",
    "#     mse = mean_squared_error(y_test,y_pred)\n",
    "#     rmse = mse**0.5\n",
    "#     mae = mean_absolute_error(y_test,y_pred)\n",
    "#     r2score = r2_score(y_test,y_pred)\n",
    "\n",
    "\n",
    "#     bagging_model = BaggingRegressor(estimator = model,n_estimators =50 )\n",
    "#     bagging_model.fit(X_train,y_train)\n",
    "#     bagging_score = bagging_model.score(X_test,y_test)\n",
    "#     bagging_CVScore = cross_val_score(bagging_model,X,y,cv = 5).mean()\n",
    "\n",
    "#     boost_model = AdaBoostRegressor(estimator = model,n_estimators = 50)\n",
    "#     boost_model.fit(X_train,y_train)\n",
    "#     boost_score = boost_model.score(X_test,y_test)\n",
    "#     boost_CVScore = cross_val_score(boost_model,X,y,cv = 50).mean()\n",
    "#     print(str(model))\n",
    "\n",
    "#     return (score,r2score,cvs,bagging_score,bagging_CVScore,boost_score,boost_CVScore,mse,mae,rmse)"
   ]
  },
  {
   "cell_type": "code",
   "execution_count": 50,
   "id": "00830b8d-5006-4397-8de2-d13a4b254c70",
   "metadata": {
    "id": "00830b8d-5006-4397-8de2-d13a4b254c70"
   },
   "outputs": [],
   "source": [
    "# all_models_score_data = {'Model':[],'Score':[],'R2_Score':[],'CVS':[],'Bagging_score':[],'Bagging_CVScore':[],'Boost_score':[],'Boost_CVScore':[],'MSE':[],'MAE':[],'RMSE':[],}\n",
    "\n",
    "# for i in models:\n",
    "#     score,r2score,cvs,bagging_score,bagging_CVScore,boost_score,boost_CVScore,mse,mae,rmse = all_models_score(i,X_scale,y)\n",
    "#     all_models_score_data['Model'].append(str(i)\n",
    "#     all_models_score_data['Score'].append(score)\n",
    "#     all_models_score_data['R2_Score'].append(r2score)\n",
    "#     all_models_score_data['CVS'].append(cvs)\n",
    "#     all_models_score_data['Bagging_score'].append(bagging_score)\n",
    "#     all_models_score_data['Bagging_CVScore'].append(bagging_CVScore)\n",
    "#     all_models_score_data['Boost_score'].append(boost_score)\n",
    "#     all_models_score_data['Boost_CVScore'].append(boost_CVScore)\n",
    "#     all_models_score_data['MSE'].append(mse)\n",
    "#     all_models_score_data['MAE'].append(mae)\n",
    "#     all_models_score_data['RMSE'].append(rmse)\n",
    "# all_models_score_data_df = pd.DataFrame(all_models_score_data)\n",
    "# all_models_score_data_df.to_csv('all_models_score_data.csv',index = False)\n",
    "# all_models_score_data_df"
   ]
  },
  {
   "cell_type": "markdown",
   "id": "a4db67e4-e52b-42f6-a3b1-4f4132aa27ee",
   "metadata": {
    "id": "a4db67e4-e52b-42f6-a3b1-4f4132aa27ee"
   },
   "source": [
    "# All gradient Model Analysis"
   ]
  },
  {
   "cell_type": "code",
   "execution_count": 51,
   "id": "e5de79c6-50ad-4d0b-8c5f-d5e44e02b93a",
   "metadata": {
    "id": "e5de79c6-50ad-4d0b-8c5f-d5e44e02b93a"
   },
   "outputs": [],
   "source": [
    "# def gradient_model_score(gradient,n_estimator,learning_rate,X,y):\n",
    "#     X_train,X_test,y_train,y_test = train_test_split(X,y,test_size = 0.2,random_state = 42)\n",
    "#     model = gradient(n_estimators = n_estimator,learning_rate = learning_rate)\n",
    "#     model.fit(X_train,y_train)\n",
    "#     score = model.score(X_test,y_test)\n",
    "#     cvs = cross_val_score(model,X,y,cv = 5).mean()\n",
    "#     y_pred = model.predict(X_test)\n",
    "\n",
    "#     mse = mean_squared_error(y_test,y_pred)\n",
    "#     rmse = mse**0.5\n",
    "#     mae = mean_absolute_error(y_test,y_pred)\n",
    "#     r2score = r2_score(y_test,y_pred)\n",
    "#     display(clear = True)\n",
    "#     print('gradient',gradient,'n_estimator',n_estimator)\n",
    "#     return (score,r2score,cvs,mse,mae,rmse)"
   ]
  },
  {
   "cell_type": "code",
   "execution_count": 52,
   "id": "45b0b4f6-22b5-4947-bca1-5562b113a793",
   "metadata": {
    "id": "45b0b4f6-22b5-4947-bca1-5562b113a793"
   },
   "outputs": [],
   "source": [
    "# gradients = [GradientBoostingRegressor,XGBRegressor]"
   ]
  },
  {
   "cell_type": "code",
   "execution_count": 53,
   "id": "a8653d0b-5dda-4a6e-ab29-fde013293747",
   "metadata": {
    "id": "a8653d0b-5dda-4a6e-ab29-fde013293747"
   },
   "outputs": [],
   "source": [
    "# gradient_models_score_data = {'Model':[],'N_estimators':[],'Learning_rate':[],'Score':[],'R2_Score':[],'CVS':[],'MSE':[],'MAE':[],'RMSE':[]}\n",
    "\n",
    "# for gradient in gradients:\n",
    "#         for n_estimator in range(1,101):\n",
    "#             for learning_rate in np.linspace(0.1,1,10).round(1):\n",
    "#                 score,r2score,cvs,mse,mae,rmse = gradient_model_score(gradient,n_estimator,learning_rate,X_scale,y)\n",
    "#                 gradient_models_score_data['Model'].append(str(gradient()))\n",
    "#                 gradient_models_score_data['N_estimators'].append(n_estimator)\n",
    "#                 gradient_models_score_data['Learning_rate'].append(learning_rate)\n",
    "#                 gradient_models_score_data['Score'].append(score)\n",
    "#                 gradient_models_score_data['R2_Score'].append(r2score)\n",
    "#                 gradient_models_score_data['CVS'].append(cvs)\n",
    "#                 gradient_models_score_data['MSE'].append(mse)\n",
    "#                 gradient_models_score_data['MAE'].append(mae)\n",
    "#                 gradient_models_score_data['RMSE'].append(rmse)\n",
    "\n",
    "# gradient_models_score_data_df = pd.DataFrame(gradient_models_score_data)\n",
    "# gradient_models_score_data_df.to_csv('gradient_models_score_data_df.csv',index = False)\n",
    "# gradient_models_score_data_df"
   ]
  },
  {
   "cell_type": "markdown",
   "id": "4e01b547-1e13-4af3-9d0b-1ec872dab2a4",
   "metadata": {
    "id": "4e01b547-1e13-4af3-9d0b-1ec872dab2a4"
   },
   "source": [
    "# All Models Score"
   ]
  },
  {
   "cell_type": "code",
   "execution_count": 54,
   "id": "29ebeb33-75b3-4cf8-9366-53d1367bec73",
   "metadata": {
    "id": "29ebeb33-75b3-4cf8-9366-53d1367bec73"
   },
   "outputs": [],
   "source": [
    "# all_models_score_data_df = pd.read_csv('all_models_score_data.csv')"
   ]
  },
  {
   "cell_type": "code",
   "execution_count": 55,
   "id": "b5185bd1-e4d3-4602-9688-ecfae9283fca",
   "metadata": {
    "id": "b5185bd1-e4d3-4602-9688-ecfae9283fca",
    "outputId": "fcb41f49-7d73-4f77-b7cd-41bf15142883"
   },
   "outputs": [],
   "source": [
    "# all_models_score_data_df"
   ]
  },
  {
   "cell_type": "code",
   "execution_count": 56,
   "id": "5c922338-e6c9-47c9-9d47-91a6677bf053",
   "metadata": {
    "id": "5c922338-e6c9-47c9-9d47-91a6677bf053",
    "outputId": "f6e0acb9-a611-4fbd-c368-e07beee9f7de"
   },
   "outputs": [],
   "source": [
    "# all_models_score_data_df.plot(kind='bar',x = 'Model',y = 'R2_Score',color = sns.color_palette('magma'))"
   ]
  },
  {
   "cell_type": "markdown",
   "id": "d9310422-d4b2-47fd-8d98-877a8591e499",
   "metadata": {
    "id": "d9310422-d4b2-47fd-8d98-877a8591e499"
   },
   "source": [
    "# Best Model is Random Forest Based on R2_score"
   ]
  },
  {
   "cell_type": "code",
   "execution_count": 57,
   "id": "bb493394-0a6b-4814-b917-b0d5a229aab0",
   "metadata": {
    "id": "bb493394-0a6b-4814-b917-b0d5a229aab0",
    "outputId": "ae94b40d-104d-4119-8539-3a1eac33ade8"
   },
   "outputs": [],
   "source": [
    "# all_models_score_data_df.plot(kind= 'bar',y = ['MSE','MAE','RMSE'], x = \"Model\")"
   ]
  },
  {
   "cell_type": "markdown",
   "id": "52cfc4a7-3a28-4726-801f-d613ec2d5748",
   "metadata": {
    "id": "52cfc4a7-3a28-4726-801f-d613ec2d5748"
   },
   "source": [
    "# Best Model is Random Forest Based on Sum of squared errors"
   ]
  },
  {
   "cell_type": "markdown",
   "id": "4db1db1f-e482-4dfd-9c36-6234d62d0e09",
   "metadata": {
    "id": "4db1db1f-e482-4dfd-9c36-6234d62d0e09"
   },
   "source": [
    "# All Gradient Model Score"
   ]
  },
  {
   "cell_type": "code",
   "execution_count": 58,
   "id": "a928fa1b-5e8e-48e6-83dd-ed98b826ecd9",
   "metadata": {
    "id": "a928fa1b-5e8e-48e6-83dd-ed98b826ecd9"
   },
   "outputs": [],
   "source": [
    "# gradient_models_score_data_df = pd.read_csv('gradient_models_score_data_df.csv')"
   ]
  },
  {
   "cell_type": "code",
   "execution_count": 59,
   "id": "3b1b85cf-1e45-4a26-b758-85271adb2875",
   "metadata": {
    "id": "3b1b85cf-1e45-4a26-b758-85271adb2875",
    "outputId": "7940fca6-6049-4709-ee87-91287c5edd96",
    "scrolled": true
   },
   "outputs": [],
   "source": [
    "# gradient_models_score_data_df"
   ]
  },
  {
   "cell_type": "markdown",
   "id": "2016c7a0-cd53-484a-b145-979c77969d28",
   "metadata": {
    "id": "2016c7a0-cd53-484a-b145-979c77969d28"
   },
   "source": [
    "# All model Score Analysis"
   ]
  },
  {
   "cell_type": "code",
   "execution_count": 60,
   "id": "daa9b0ae-6dc4-43de-870d-31a7dabedf73",
   "metadata": {
    "id": "daa9b0ae-6dc4-43de-870d-31a7dabedf73",
    "outputId": "7f10f59a-fce9-4222-b930-8c44794dfb61"
   },
   "outputs": [],
   "source": [
    "# gradient_models_score_data_df[gradient_models_score_data_df.Score == gradient_models_score_data_df.Score.max()]"
   ]
  },
  {
   "cell_type": "markdown",
   "id": "2c919aa8-08fc-4e28-8239-76f3e798d962",
   "metadata": {
    "id": "2c919aa8-08fc-4e28-8239-76f3e798d962"
   },
   "source": [
    "# Best Gradient Model is  XGBRegressor with N_estimators = 22 and Learning_rate = 0.2 based on Score"
   ]
  },
  {
   "cell_type": "code",
   "execution_count": 61,
   "id": "e43dc930-571c-4199-b7e6-e2d3b05c4199",
   "metadata": {
    "id": "e43dc930-571c-4199-b7e6-e2d3b05c4199",
    "outputId": "c54c0139-f330-4f6b-cf35-b8fa4110038d"
   },
   "outputs": [],
   "source": [
    "# gradient_models_score_data_df[gradient_models_score_data_df.R2_Score == gradient_models_score_data_df.R2_Score.max()]"
   ]
  },
  {
   "cell_type": "markdown",
   "id": "39f7b329-f27d-46b2-ab3e-352b0ea069fd",
   "metadata": {
    "id": "39f7b329-f27d-46b2-ab3e-352b0ea069fd"
   },
   "source": [
    "# Best Gradient Model is  XGBRegressor with N_estimators = 22 and Learning_rate = 0.2 based on R2_Score"
   ]
  },
  {
   "cell_type": "code",
   "execution_count": 62,
   "id": "00c61a59-0fcb-4d51-a4dd-6d6d3eea1fe1",
   "metadata": {
    "id": "00c61a59-0fcb-4d51-a4dd-6d6d3eea1fe1",
    "outputId": "f8f3847e-97d5-4686-aefd-a34eb518f790"
   },
   "outputs": [],
   "source": [
    "# gradient_models_score_data_df[gradient_models_score_data_df.CVS == gradient_models_score_data_df.CVS.max()]"
   ]
  },
  {
   "cell_type": "markdown",
   "id": "9d21cc58-1f22-4275-8566-07cbdb51fb58",
   "metadata": {
    "id": "9d21cc58-1f22-4275-8566-07cbdb51fb58"
   },
   "source": [
    "# Best Gradient Model is  GradientBoostingRegressor with N_estimators = 94 and Learning_rate = 0.1 based on Cross_Val_score"
   ]
  },
  {
   "cell_type": "code",
   "execution_count": 63,
   "id": "e592f939-0ec3-4dd8-85e2-4c7349f32781",
   "metadata": {
    "id": "e592f939-0ec3-4dd8-85e2-4c7349f32781",
    "outputId": "c7e5d2f7-5ca3-4bd2-de02-28cba8c87269"
   },
   "outputs": [],
   "source": [
    "# all_models_score_data_df[all_models_score_data_df.Model == 'RandomForestRegressor()']"
   ]
  },
  {
   "cell_type": "markdown",
   "id": "0cd4232b-9d08-4895-949e-e60b504ba86a",
   "metadata": {
    "id": "0cd4232b-9d08-4895-949e-e60b504ba86a"
   },
   "source": [
    "# PCA"
   ]
  },
  {
   "cell_type": "code",
   "execution_count": 66,
   "id": "8cf4cd1c-9d02-4560-8a14-db1807f94577",
   "metadata": {
    "id": "8cf4cd1c-9d02-4560-8a14-db1807f94577"
   },
   "outputs": [],
   "source": [
    "# pca_model = PCA(.90)\n",
    "# X_train_pca = pca_model.fit_transform(X_scale)\n",
    "# X_train_pca"
   ]
  },
  {
   "cell_type": "code",
   "execution_count": 67,
   "id": "515079f1-024e-4d45-ace9-314976ee2c45",
   "metadata": {
    "id": "515079f1-024e-4d45-ace9-314976ee2c45"
   },
   "outputs": [],
   "source": [
    "# X_train_pca.shape"
   ]
  },
  {
   "cell_type": "code",
   "execution_count": 68,
   "id": "552dd605-9c61-4815-b4c6-e36116666ad9",
   "metadata": {
    "id": "552dd605-9c61-4815-b4c6-e36116666ad9"
   },
   "outputs": [],
   "source": [
    "# X_train.shape"
   ]
  },
  {
   "cell_type": "code",
   "execution_count": 69,
   "id": "d83bb2e3-7917-42d6-b475-a52ea986e2ad",
   "metadata": {
    "id": "d83bb2e3-7917-42d6-b475-a52ea986e2ad"
   },
   "outputs": [],
   "source": [
    "# final_pca = PCA( 9)\n",
    "# final_X_pca = final_pca.fit_transform(X_scale)\n",
    "# X_train,X_test,y_train,y_test = train_test_split(final_X_pca,y,test_size = 0.2,random_state = 42)\n",
    "# model = GradientBoostingRegressor(n_estimators = 22,learning_rate = 0.1)\n",
    "# model.fit(X_train,y_train)\n",
    "# model.score(X_test,y_test)"
   ]
  },
  {
   "cell_type": "code",
   "execution_count": 70,
   "id": "1fbf7360-3daa-4d28-9657-0d920c5383dc",
   "metadata": {
    "id": "1fbf7360-3daa-4d28-9657-0d920c5383dc"
   },
   "outputs": [],
   "source": [
    "# final_pca = PCA(.99)\n",
    "# final_X_pca = final_pca.fit_transform(X_scale)\n",
    "# X_train,X_test,y_train,y_test = train_test_split(final_X_pca,y,test_size = 0.2,random_state = 42)\n",
    "# model = GradientBoostingRegressor(n_estimators = 22,learning_rate = 0.1)\n",
    "# model.fit(X_train,y_train)\n",
    "# model.score(X_test,y_test)"
   ]
  },
  {
   "cell_type": "code",
   "execution_count": 71,
   "id": "fae2760a-58af-4651-9635-24835f82ffe8",
   "metadata": {
    "id": "fae2760a-58af-4651-9635-24835f82ffe8"
   },
   "outputs": [],
   "source": [
    "# PCA conclusion:\n",
    "# 1>> Pca did not support that much as expected\n",
    "# 2>> 1 columns explained 58% accuracy\n",
    "# 3>> 12 columns explained 75% accuracy\n",
    "# 4>> we will proceed without pca"
   ]
  },
  {
   "cell_type": "markdown",
   "id": "deaebcce-8be3-4010-a8f2-537ff26a34f9",
   "metadata": {
    "id": "deaebcce-8be3-4010-a8f2-537ff26a34f9"
   },
   "source": [
    "# GradientBoostingRegressor Model Hyperparameter Tune"
   ]
  },
  {
   "cell_type": "code",
   "execution_count": 72,
   "id": "280bbb16-260b-4474-b152-c46862c98d9c",
   "metadata": {
    "id": "280bbb16-260b-4474-b152-c46862c98d9c"
   },
   "outputs": [],
   "source": [
    "# parmas_graid = {\n",
    "#          'loss' : ['squared_error', 'absolute_error', 'huber', 'quantile'],\n",
    "#          'criterion' : ['friedman_mse', 'squared_error'],\n",
    "#          'max_features' : ['sqrt', 'log2'],\n",
    "#          'max_depth':range(1,5),\n",
    "#          'alpha':[0.1,0.2,0.3,0.4,0.5,0.6,0.7,0.8,0.9,1],\n",
    "#         }\n",
    "# model_graid = GridSearchCV(GradientBoostingRegressor(n_estimators=94,learning_rate=0.1),param_grid = parmas_graid)\n",
    "# model_graid.fit(X_train,y_train)\n",
    "# print('ritu done')\n",
    "# joblib.dump(model_graid,'model_graid.pkl')"
   ]
  },
  {
   "cell_type": "code",
   "execution_count": 73,
   "id": "cb173f4d-ebd2-4963-b5e6-3da079b2b820",
   "metadata": {
    "id": "cb173f4d-ebd2-4963-b5e6-3da079b2b820",
    "outputId": "8f818efe-d758-45d3-e609-51b100f0cf6b"
   },
   "outputs": [],
   "source": [
    "# model_graid = joblib.load('model_graid.pkl')\n",
    "# print(model_graid.best_score_)\n",
    "# graid_final_model = model_graid.best_estimator_\n",
    "# graid_final_model.score(X_test,y_test)\n"
   ]
  },
  {
   "cell_type": "markdown",
   "id": "9ad5a700-bc55-4c21-a8f1-794c4dc2f04e",
   "metadata": {
    "id": "9ad5a700-bc55-4c21-a8f1-794c4dc2f04e"
   },
   "source": [
    "# XGBRegressor Model Hyperparameter Tune"
   ]
  },
  {
   "cell_type": "code",
   "execution_count": 74,
   "id": "44678bfe-debb-4111-bde4-012328735d6c",
   "metadata": {
    "id": "44678bfe-debb-4111-bde4-012328735d6c"
   },
   "outputs": [],
   "source": [
    "# parmas_xgb = {\n",
    "#          'sampling_method' : ['uniform', 'gradient_based'],\n",
    "#          'max_depth':range(1,11),\n",
    "#         'grow_policy':['depthwise','lossguide']\n",
    "#         }\n",
    "# model_xgb = GridSearchCV(XGBRegressor(n_estimators=22,learning_rate=0.2),param_grid = parmas_xgb)\n",
    "# model_xgb.fit(X_train,y_train)\n",
    "# joblib.dump(model_xgb,'model_xgb.pkl')\n",
    "\n"
   ]
  },
  {
   "cell_type": "code",
   "execution_count": 75,
   "id": "006459f1-91f0-4a4b-9c60-4b02e870858b",
   "metadata": {
    "id": "006459f1-91f0-4a4b-9c60-4b02e870858b",
    "outputId": "e6ed6ea1-daab-4b30-ee9f-5c9cdd9b0f07"
   },
   "outputs": [],
   "source": [
    "# model_xgb = joblib.load('model_xgb.pkl')\n",
    "# print(model_xgb.best_score_)\n",
    "# xgb_final_model = model_xgb.best_estimator_\n",
    "# xgb_final_model.score(X_test,y_test)"
   ]
  },
  {
   "cell_type": "markdown",
   "id": "0455d5bc-db79-47b1-b9a4-22d7482319fc",
   "metadata": {
    "id": "0455d5bc-db79-47b1-b9a4-22d7482319fc"
   },
   "source": [
    "# Random Forest Model Hyperparameter Tune"
   ]
  },
  {
   "cell_type": "code",
   "execution_count": 76,
   "id": "b76876c9-186b-4251-97db-a1001dc24a2d",
   "metadata": {
    "id": "b76876c9-186b-4251-97db-a1001dc24a2d"
   },
   "outputs": [],
   "source": [
    "# param_rf = {'n_estimators':range(50,101),\n",
    "#          'criterion':[\"squared_error\", \"absolute_error\", \"friedman_mse\", \"poisson\"],\n",
    "#          'max_features':[\"sqrt\", \"log2\", None]\n",
    "#         }\n",
    "# # model = GridSearchCV(RandomForestRegressor(),param_grid=param,return_train_score=False)"
   ]
  },
  {
   "cell_type": "code",
   "execution_count": 77,
   "id": "8222f14d-8f1b-4dfa-8624-699354676ccc",
   "metadata": {
    "id": "8222f14d-8f1b-4dfa-8624-699354676ccc"
   },
   "outputs": [],
   "source": [
    "# rf_score_dict = {'score':[],'n_estimators':[],'criterion':[],'max_features':[]}"
   ]
  },
  {
   "cell_type": "code",
   "execution_count": 78,
   "id": "bb02e03e-c2e8-4964-a35b-1330348472a9",
   "metadata": {
    "id": "bb02e03e-c2e8-4964-a35b-1330348472a9"
   },
   "outputs": [],
   "source": [
    "# import threading as th\n",
    "# counter,fail_counter = 1,1\n",
    "# def rf_score(X,y,n_est,crt,mf,score_dict):\n",
    "#     global counter,fail_counter\n",
    "#     try:\n",
    "#         X_train,X_test,y_train,y_test = train_test_split(X,y,test_size=0.2,random_state=150 - n_est)\n",
    "#         model_rf = RandomForestRegressor(n_estimators = n_est,criterion = crt,max_features = mf)\n",
    "#         model_rf.fit(X_train,y_train)\n",
    "#         score = model_rf.score(X_test,y_test)\n",
    "#         score_dict['score'].append(score)\n",
    "#         score_dict['n_estimators'].append(n_est)\n",
    "#         score_dict['criterion'].append(crt)\n",
    "#         score_dict['max_features'].append(mf)\n",
    "#         print(counter,'Try Success!!')\n",
    "#         counter +=1\n",
    "#     except:\n",
    "#         print(fail_counter,'Try fails!!')\n",
    "#         fail_counter +=1\n",
    "\n"
   ]
  },
  {
   "cell_type": "code",
   "execution_count": 79,
   "id": "be3647e7-c161-44a7-b3d4-2004328bbe1a",
   "metadata": {
    "id": "be3647e7-c161-44a7-b3d4-2004328bbe1a",
    "outputId": "9d09ad2a-68dc-4637-c6ff-8113b261ae08"
   },
   "outputs": [],
   "source": [
    "# all_threads = []\n",
    "# for i in param_rf['n_estimators']:\n",
    "#     for j in param_rf['criterion']:\n",
    "#         for k in param_rf['max_features']:\n",
    "#             thread = th.Thread(target = rf_score,args = [X_scale,y,i,j,k,rf_score_dict])\n",
    "#             all_threads.append(thread)\n",
    "# print('Done')"
   ]
  },
  {
   "cell_type": "code",
   "execution_count": 80,
   "id": "8734cfc0-4871-4193-a07e-1c5f78ae4f08",
   "metadata": {
    "id": "8734cfc0-4871-4193-a07e-1c5f78ae4f08",
    "outputId": "977ce83d-81f8-4b5b-ff0c-38f501d3a731"
   },
   "outputs": [],
   "source": [
    "# warnings.filterwarnings('ignore')\n",
    "# for i in all_threads:\n",
    "#     i.start()\n",
    "\n",
    "# for j in all_threads:\n",
    "#     j.join()\n",
    "\n",
    "# rf_score_df = pd.DataFrame(rf_score_dict)\n",
    "# rf_score_df.to_csv('rf_score_df.csv')\n"
   ]
  },
  {
   "cell_type": "code",
   "execution_count": 81,
   "id": "04fea16e-7661-4a63-a561-27aaa5d0343e",
   "metadata": {
    "id": "04fea16e-7661-4a63-a561-27aaa5d0343e"
   },
   "outputs": [],
   "source": [
    "# print('ritu')"
   ]
  },
  {
   "cell_type": "code",
   "execution_count": null,
   "id": "44d1946c-1eb1-454f-9c21-b3cf8a0582ca",
   "metadata": {
    "id": "44d1946c-1eb1-454f-9c21-b3cf8a0582ca"
   },
   "outputs": [],
   "source": []
  },
  {
   "cell_type": "code",
   "execution_count": null,
   "id": "0cb206cd-5f83-4de8-96a9-32c9025c5572",
   "metadata": {
    "id": "0cb206cd-5f83-4de8-96a9-32c9025c5572"
   },
   "outputs": [],
   "source": [
    "# rf_score_dict = {'score':[],'n_estimators':[],'criterion':[],'max_features':[]}\n",
    "# import threading as th\n",
    "# counter,fail_counter = 1,1\n",
    "# def rf_score(X,y,n_est,crt,mf,score_dict):\n",
    "#     global counter,fail_counter\n",
    "#     try:\n",
    "#         X_train,X_test,y_train,y_test = train_test_split(X,y,test_size=0.2,random_state=150 - n_est)\n",
    "#         model_rf = RandomForestRegressor(n_estimators = n_est,criterion = crt,max_features = mf)\n",
    "#         model_rf.fit(X_train,y_train)\n",
    "#         score = model_rf.score(X_test,y_test)\n",
    "#         score_dict['score'].append(score)\n",
    "#         score_dict['n_estimators'].append(n_est)\n",
    "#         score_dict['criterion'].append(crt)\n",
    "#         score_dict['max_features'].append(mf)\n",
    "#         print(counter,'Try Success!!')\n",
    "#         counter +=1\n",
    "#     except:\n",
    "#         print(fail_counter,'Try fails!!')\n",
    "#         fail_counter +=1\n",
    "\n",
    "# all_threads = []\n",
    "# for i in param_rf['n_estimators']:\n",
    "#     for j in param_rf['criterion']:\n",
    "#         for k in param_rf['max_features']:\n",
    "#             thread = th.Thread(target = rf_score,args = [X_scale,y,i,j,k,rf_score_dict])\n",
    "#             all_threads.append(thread)\n",
    "# print('Done')\n",
    "# warnings.filterwarnings('ignore')\n",
    "# for i in all_threads:\n",
    "#     i.start()\n",
    "\n",
    "# for j in all_threads:\n",
    "#     j.join()\n",
    "\n",
    "# rf_score_df = pd.DataFrame(rf_score_dict)\n",
    "# rf_score_df.to_csv('rf_score_df.csv')\n",
    "# print('Ritu')"
   ]
  },
  {
   "cell_type": "code",
   "execution_count": null,
   "id": "a78c42b3-4560-4df0-91cb-257d1370f423",
   "metadata": {
    "id": "a78c42b3-4560-4df0-91cb-257d1370f423"
   },
   "outputs": [],
   "source": [
    "# def all_models_score(model,X,y,score_dict):\n",
    "#     score_dict['Model'].append(model)\n",
    "#     X_train,X_test,y_train,y_test = train_test_split(X,y,test_size = 0.2,random_state = 42)\n",
    "#     model.fit(X_train,y_train)\n",
    "#     score_dict['Score'].append(model.score(X_test,y_test))\n",
    "#     score_dict['CVS'].append(cross_val_score(model,X,y,cv = 5).mean())\n",
    "#     y_pred = model.predict(X_test)\n",
    "#     score_dict['MSE'].append(mean_squared_error(y_test,y_pred))\n",
    "#     score_dict['RMSE'].append( mse**0.5))\n",
    "#     score_dict['MAE'].append( mean_absolute_error(y_test,y_pred))\n",
    "#     score_dict['R2_Score'].append(r2_score(y_test,y_pred))\n",
    "#     bagging_model = BaggingRegressor(estimator = model,n_estimators =50 )\n",
    "#     bagging_model.fit(X_train,y_train)\n",
    "#     score_dict['Bagging_score'].append(bagging_model.score(X_test,y_test))\n",
    "#     score_dict['Bagging_CVScore'].append(cross_val_score(bagging_model,X,y,cv = 5).mean())\n",
    "#     boost_model = AdaBoostRegressor(estimator = model,n_estimators = 50)\n",
    "#     boost_model.fit(X_train,y_train)\n",
    "#     score_dict['Boost_score'].append(boost_model.score(X_test,y_test))\n",
    "#     score_dict['Boost_CVScore'].append(cross_val_score(boost_model,X,y,cv = 50).mean())\n",
    "#     print(str(model))\n",
    "\n",
    "\n",
    "# models = [LinearRegression(),DecisionTreeRegressor(),RandomForestRegressor(),Lasso(),Ridge(),SVR(),KNeighborsRegressor()]\n",
    "# all_models_score_data = {'Model':[],'Score':[],'R2_Score':[],'CVS':[],'Bagging_score':[],'Bagging_CVScore':[],'Boost_score':[],'Boost_CVScore':[],'MSE':[],'MAE':[],'RMSE':[],}\n",
    "# all_model_threads = []\n",
    "# for model in models:\n",
    "#     thread = th.Thread(target = all_models_score,args = [model,X_scale,y,all_model_threads] )\n",
    "#     all_model_threads.append(thread)\n",
    "\n",
    "\n",
    "# warnings.filterwarnings('ignore')\n",
    "# for i in all_model_threads:\n",
    "#     i.start()\n",
    "\n",
    "# for j in all_model_threads:\n",
    "#     j.join()\n",
    "    \n",
    "# all_models_score_data_df = pd.DataFrame(all_models_score_data)\n",
    "# all_models_score_data_df.to_csv('all_models_score_data.csv',index = False)\n",
    "# all_models_score_data_df"
   ]
  }
 ],
 "metadata": {
  "colab": {
   "provenance": []
  },
  "kernelspec": {
   "display_name": "Python 3 (ipykernel)",
   "language": "python",
   "name": "python3"
  },
  "language_info": {
   "codemirror_mode": {
    "name": "ipython",
    "version": 3
   },
   "file_extension": ".py",
   "mimetype": "text/x-python",
   "name": "python",
   "nbconvert_exporter": "python",
   "pygments_lexer": "ipython3",
   "version": "3.12.0"
  }
 },
 "nbformat": 4,
 "nbformat_minor": 5
}
